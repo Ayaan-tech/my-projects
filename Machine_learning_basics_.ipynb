{
  "nbformat": 4,
  "nbformat_minor": 0,
  "metadata": {
    "colab": {
      "provenance": [],
      "authorship_tag": "ABX9TyPoM2sxXUVFxsCWjdIEhk31",
      "include_colab_link": true
    },
    "kernelspec": {
      "name": "python3",
      "display_name": "Python 3"
    },
    "language_info": {
      "name": "python"
    }
  },
  "cells": [
    {
      "cell_type": "markdown",
      "metadata": {
        "id": "view-in-github",
        "colab_type": "text"
      },
      "source": [
        "<a href=\"https://colab.research.google.com/github/Ayaan-tech/my-projects/blob/main/Machine_learning_basics_.ipynb\" target=\"_parent\"><img src=\"https://colab.research.google.com/assets/colab-badge.svg\" alt=\"Open In Colab\"/></a>"
      ]
    },
    {
      "cell_type": "markdown",
      "source": [],
      "metadata": {
        "id": "4jpZ-tJ3hdKl"
      }
    },
    {
      "cell_type": "code",
      "source": [
        "import pandas as ps\n"
      ],
      "metadata": {
        "id": "1q6DpOJWhZLS"
      },
      "execution_count": 22,
      "outputs": []
    },
    {
      "cell_type": "code",
      "source": [
        "import numpy  as np"
      ],
      "metadata": {
        "id": "XIX80U5lsMuC"
      },
      "execution_count": 21,
      "outputs": []
    },
    {
      "cell_type": "markdown",
      "source": [
        "LIST VS NUMPY - TIME TAKEN"
      ],
      "metadata": {
        "id": "ne8c_zLbhcKL"
      }
    },
    {
      "cell_type": "code",
      "source": [
        "from time import process_time"
      ],
      "metadata": {
        "id": "P53OV1vxi68r"
      },
      "execution_count": 14,
      "outputs": []
    },
    {
      "cell_type": "markdown",
      "source": [
        "Time taken by a List"
      ],
      "metadata": {
        "id": "fLbYn9wqmKCV"
      }
    },
    {
      "cell_type": "code",
      "source": [
        "python_list = [i for i in range(10000)]\n",
        "\n",
        "start_time = process_time()\n",
        "\n",
        "python_list = [i+5 for i in python_list]\n",
        "\n",
        "end_time = process_time()\n",
        "\n",
        "print(end_time - start_time)"
      ],
      "metadata": {
        "colab": {
          "base_uri": "https://localhost:8080/"
        },
        "id": "KBP_3eZ4mEU3",
        "outputId": "4e47f868-5f52-4fab-e652-70ba09f9bf9b"
      },
      "execution_count": 15,
      "outputs": [
        {
          "output_type": "stream",
          "name": "stdout",
          "text": [
            "0.0013837910000003006\n"
          ]
        }
      ]
    },
    {
      "cell_type": "markdown",
      "source": [
        "Time Taken By a numpy Array\n"
      ],
      "metadata": {
        "id": "spenk8MJoDiI"
      }
    },
    {
      "cell_type": "code",
      "source": [
        "np_array = np.array([i for i in range(10000)])\n",
        "\n",
        "start_time = process_time()\n",
        "\n",
        "np_array += 5\n",
        "\n",
        "end_time = process_time()\n",
        "\n",
        "print(end_time - start_time)\n"
      ],
      "metadata": {
        "colab": {
          "base_uri": "https://localhost:8080/"
        },
        "id": "vuXHyFsonYN4",
        "outputId": "e0d45876-1b78-4d51-c397-64dd0db23183"
      },
      "execution_count": 18,
      "outputs": [
        {
          "output_type": "stream",
          "name": "stdout",
          "text": [
            "0.00031735499999996364\n"
          ]
        }
      ]
    },
    {
      "cell_type": "code",
      "source": [
        "from __future__ import print_function\n",
        "#Creating a 1-D array and 2-D array\n",
        "a = np.array([1 , 2 , 3 , 4,(1)])\n",
        "print(a)\n",
        "\n",
        "\n",
        "b = np.array([(1,2,3,4),(5,6,7,8)])\n",
        "print(b)\n",
        "b.shape\n",
        "\n",
        "# Creating a numpy matrix with all  zeroes\n",
        "\n",
        "x = np.zeros((2,2))\n",
        "print(x)\n",
        " # Creating a matrix with ones\n",
        "\n",
        "y = np.ones((3,3))\n",
        "print(y)\n",
        "\n",
        "# Creating a numpy matrix of a particular value\n",
        "\n",
        "z= np.full((1,1),5)\n",
        "print(z)\n",
        "\n",
        "# Creating an identity matrix\n",
        "w = np.eye(5)\n",
        "print(w)\n",
        "\n",
        "# Creating a matrix with random values\n",
        "d= np.random.random((3,4))\n",
        "print(d)\n",
        "\n",
        "# Random values with a particular range\n",
        "e = np.random.randint(10,100,(3,6))\n",
        "print(e)\n",
        "\n",
        "# Creating an evenly spaced array\n",
        "q = np.linspace(10,3,5)\n",
        "print(q)\n",
        "\n",
        "# Creating array with evenly spaced values --> Specifying the range\n",
        "u = np.arange(10,30,5)\n",
        "print(u)"
      ],
      "metadata": {
        "colab": {
          "base_uri": "https://localhost:8080/"
        },
        "id": "wmK-xy0brRag",
        "outputId": "c11f81ee-c0ad-474c-fd91-c57d8bfddc4b"
      },
      "execution_count": 44,
      "outputs": [
        {
          "output_type": "stream",
          "name": "stdout",
          "text": [
            "[1 2 3 4 1]\n",
            "[[1 2 3 4]\n",
            " [5 6 7 8]]\n",
            "[[0. 0.]\n",
            " [0. 0.]]\n",
            "[[1. 1. 1.]\n",
            " [1. 1. 1.]\n",
            " [1. 1. 1.]]\n",
            "[[5]]\n",
            "[[1. 0. 0. 0. 0.]\n",
            " [0. 1. 0. 0. 0.]\n",
            " [0. 0. 1. 0. 0.]\n",
            " [0. 0. 0. 1. 0.]\n",
            " [0. 0. 0. 0. 1.]]\n",
            "[[0.90056138 0.42048343 0.07248757 0.1233101 ]\n",
            " [0.22498419 0.80246627 0.86761634 0.92773807]\n",
            " [0.70696022 0.68834681 0.43736758 0.3671267 ]]\n",
            "[[24 77 71 97 89 94]\n",
            " [44 13 75 77 71 77]\n",
            " [43 14 71 54 52 12]]\n",
            "[10.    8.25  6.5   4.75  3.  ]\n",
            "[10 15 20 25]\n"
          ]
        }
      ]
    },
    {
      "cell_type": "markdown",
      "source": [],
      "metadata": {
        "id": "shqOExkQmI7F"
      }
    }
  ]
}